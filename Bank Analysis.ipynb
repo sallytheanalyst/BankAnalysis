{
 "cells": [
  {
   "cell_type": "markdown",
   "id": "8dcf0bc6",
   "metadata": {},
   "source": [
    "## Problem Definition"
   ]
  },
  {
   "cell_type": "markdown",
   "id": "96cc72b7",
   "metadata": {},
   "source": [
    "This analysis is on customer segmentation and deposit detection system for a financial organization.\n",
    "\n",
    "However, what are the problems we'll like to evaluate and proffer solutions to?\n",
    "\n",
    "- Identify patterns and trends in customers behaviours\n",
    "- How effective have the campaigns being?\n",
    "- Analyze loan trends and marketing campaign effectiveness\n",
    "- Analysis on optimizing operations and mitigating risks/loan defaults\n",
    "- How to improve customer deposits\n",
    "- Anticipate future customer behaviour and likelihood of customers deposits"
   ]
  },
  {
   "cell_type": "code",
   "execution_count": 2,
   "id": "ead3ed14",
   "metadata": {},
   "outputs": [],
   "source": [
    "#import libraries\n",
    "\n",
    "import pandas as pd\n",
    "import matplotlib.pyplot as plt\n",
    "import seaborn as sns\n",
    "import missingno as msno\n",
    "from collections import Counter\n",
    "\n",
    "import warnings\n",
    "warnings.filterwarnings(\"ignore\")"
   ]
  },
  {
   "cell_type": "code",
   "execution_count": 3,
   "id": "26369403",
   "metadata": {},
   "outputs": [
    {
     "data": {
      "text/html": [
       "<div>\n",
       "<style scoped>\n",
       "    .dataframe tbody tr th:only-of-type {\n",
       "        vertical-align: middle;\n",
       "    }\n",
       "\n",
       "    .dataframe tbody tr th {\n",
       "        vertical-align: top;\n",
       "    }\n",
       "\n",
       "    .dataframe thead th {\n",
       "        text-align: right;\n",
       "    }\n",
       "</style>\n",
       "<table border=\"1\" class=\"dataframe\">\n",
       "  <thead>\n",
       "    <tr style=\"text-align: right;\">\n",
       "      <th></th>\n",
       "      <th>age</th>\n",
       "      <th>job</th>\n",
       "      <th>marital</th>\n",
       "      <th>education</th>\n",
       "      <th>default</th>\n",
       "      <th>balance</th>\n",
       "      <th>housing</th>\n",
       "      <th>loan</th>\n",
       "      <th>contact</th>\n",
       "      <th>day</th>\n",
       "      <th>month</th>\n",
       "      <th>duration</th>\n",
       "      <th>campaign</th>\n",
       "      <th>pdays</th>\n",
       "      <th>previous</th>\n",
       "      <th>poutcome</th>\n",
       "      <th>deposit</th>\n",
       "    </tr>\n",
       "  </thead>\n",
       "  <tbody>\n",
       "    <tr>\n",
       "      <th>0</th>\n",
       "      <td>58</td>\n",
       "      <td>management</td>\n",
       "      <td>married</td>\n",
       "      <td>tertiary</td>\n",
       "      <td>no</td>\n",
       "      <td>2143</td>\n",
       "      <td>yes</td>\n",
       "      <td>no</td>\n",
       "      <td>unknown</td>\n",
       "      <td>5</td>\n",
       "      <td>may</td>\n",
       "      <td>261</td>\n",
       "      <td>1</td>\n",
       "      <td>-1</td>\n",
       "      <td>0</td>\n",
       "      <td>unknown</td>\n",
       "      <td>no</td>\n",
       "    </tr>\n",
       "    <tr>\n",
       "      <th>1</th>\n",
       "      <td>44</td>\n",
       "      <td>technician</td>\n",
       "      <td>single</td>\n",
       "      <td>secondary</td>\n",
       "      <td>no</td>\n",
       "      <td>29</td>\n",
       "      <td>yes</td>\n",
       "      <td>no</td>\n",
       "      <td>unknown</td>\n",
       "      <td>5</td>\n",
       "      <td>may</td>\n",
       "      <td>151</td>\n",
       "      <td>1</td>\n",
       "      <td>-1</td>\n",
       "      <td>0</td>\n",
       "      <td>unknown</td>\n",
       "      <td>no</td>\n",
       "    </tr>\n",
       "    <tr>\n",
       "      <th>2</th>\n",
       "      <td>33</td>\n",
       "      <td>entrepreneur</td>\n",
       "      <td>married</td>\n",
       "      <td>secondary</td>\n",
       "      <td>no</td>\n",
       "      <td>2</td>\n",
       "      <td>yes</td>\n",
       "      <td>yes</td>\n",
       "      <td>unknown</td>\n",
       "      <td>5</td>\n",
       "      <td>may</td>\n",
       "      <td>76</td>\n",
       "      <td>1</td>\n",
       "      <td>-1</td>\n",
       "      <td>0</td>\n",
       "      <td>unknown</td>\n",
       "      <td>no</td>\n",
       "    </tr>\n",
       "    <tr>\n",
       "      <th>3</th>\n",
       "      <td>47</td>\n",
       "      <td>blue-collar</td>\n",
       "      <td>married</td>\n",
       "      <td>unknown</td>\n",
       "      <td>no</td>\n",
       "      <td>1506</td>\n",
       "      <td>yes</td>\n",
       "      <td>no</td>\n",
       "      <td>unknown</td>\n",
       "      <td>5</td>\n",
       "      <td>may</td>\n",
       "      <td>92</td>\n",
       "      <td>1</td>\n",
       "      <td>-1</td>\n",
       "      <td>0</td>\n",
       "      <td>unknown</td>\n",
       "      <td>no</td>\n",
       "    </tr>\n",
       "    <tr>\n",
       "      <th>4</th>\n",
       "      <td>33</td>\n",
       "      <td>unknown</td>\n",
       "      <td>single</td>\n",
       "      <td>unknown</td>\n",
       "      <td>no</td>\n",
       "      <td>1</td>\n",
       "      <td>no</td>\n",
       "      <td>no</td>\n",
       "      <td>unknown</td>\n",
       "      <td>5</td>\n",
       "      <td>may</td>\n",
       "      <td>198</td>\n",
       "      <td>1</td>\n",
       "      <td>-1</td>\n",
       "      <td>0</td>\n",
       "      <td>unknown</td>\n",
       "      <td>no</td>\n",
       "    </tr>\n",
       "  </tbody>\n",
       "</table>\n",
       "</div>"
      ],
      "text/plain": [
       "   age           job  marital  education default  balance housing loan  \\\n",
       "0   58    management  married   tertiary      no     2143     yes   no   \n",
       "1   44    technician   single  secondary      no       29     yes   no   \n",
       "2   33  entrepreneur  married  secondary      no        2     yes  yes   \n",
       "3   47   blue-collar  married    unknown      no     1506     yes   no   \n",
       "4   33       unknown   single    unknown      no        1      no   no   \n",
       "\n",
       "   contact  day month  duration  campaign  pdays  previous poutcome deposit  \n",
       "0  unknown    5   may       261         1     -1         0  unknown      no  \n",
       "1  unknown    5   may       151         1     -1         0  unknown      no  \n",
       "2  unknown    5   may        76         1     -1         0  unknown      no  \n",
       "3  unknown    5   may        92         1     -1         0  unknown      no  \n",
       "4  unknown    5   may       198         1     -1         0  unknown      no  "
      ]
     },
     "execution_count": 3,
     "metadata": {},
     "output_type": "execute_result"
    }
   ],
   "source": [
    "#load the dataset\n",
    "\n",
    "df = pd.read_csv(r\"C:\\Users\\SALAMAH ALAWIYE\\OneDrive - AfyA Care Nigeria\\DESKTOP\\10alytics\\Capstone project\\bank.csv\")\n",
    "\n",
    "df.head(5)"
   ]
  },
  {
   "cell_type": "code",
   "execution_count": 4,
   "id": "02d8109c",
   "metadata": {},
   "outputs": [
    {
     "data": {
      "text/plain": [
       "(45211, 17)"
      ]
     },
     "execution_count": 4,
     "metadata": {},
     "output_type": "execute_result"
    }
   ],
   "source": [
    "df.shape"
   ]
  },
  {
   "cell_type": "code",
   "execution_count": 4,
   "id": "086f8031",
   "metadata": {},
   "outputs": [
    {
     "data": {
      "text/html": [
       "<div>\n",
       "<style scoped>\n",
       "    .dataframe tbody tr th:only-of-type {\n",
       "        vertical-align: middle;\n",
       "    }\n",
       "\n",
       "    .dataframe tbody tr th {\n",
       "        vertical-align: top;\n",
       "    }\n",
       "\n",
       "    .dataframe thead th {\n",
       "        text-align: right;\n",
       "    }\n",
       "</style>\n",
       "<table border=\"1\" class=\"dataframe\">\n",
       "  <thead>\n",
       "    <tr style=\"text-align: right;\">\n",
       "      <th></th>\n",
       "      <th>age</th>\n",
       "      <th>job</th>\n",
       "      <th>marital</th>\n",
       "      <th>education</th>\n",
       "      <th>default</th>\n",
       "      <th>balance</th>\n",
       "      <th>housing</th>\n",
       "      <th>loan</th>\n",
       "      <th>contact</th>\n",
       "      <th>day</th>\n",
       "      <th>month</th>\n",
       "      <th>duration</th>\n",
       "      <th>campaign</th>\n",
       "      <th>pdays</th>\n",
       "      <th>previous</th>\n",
       "      <th>poutcome</th>\n",
       "      <th>deposit</th>\n",
       "      <th>age_category</th>\n",
       "    </tr>\n",
       "  </thead>\n",
       "  <tbody>\n",
       "    <tr>\n",
       "      <th>0</th>\n",
       "      <td>58</td>\n",
       "      <td>management</td>\n",
       "      <td>married</td>\n",
       "      <td>tertiary</td>\n",
       "      <td>no</td>\n",
       "      <td>2143</td>\n",
       "      <td>yes</td>\n",
       "      <td>no</td>\n",
       "      <td>unknown</td>\n",
       "      <td>5</td>\n",
       "      <td>may</td>\n",
       "      <td>261</td>\n",
       "      <td>1</td>\n",
       "      <td>-1</td>\n",
       "      <td>0</td>\n",
       "      <td>unknown</td>\n",
       "      <td>no</td>\n",
       "      <td>Elderly</td>\n",
       "    </tr>\n",
       "    <tr>\n",
       "      <th>1</th>\n",
       "      <td>44</td>\n",
       "      <td>technician</td>\n",
       "      <td>single</td>\n",
       "      <td>secondary</td>\n",
       "      <td>no</td>\n",
       "      <td>29</td>\n",
       "      <td>yes</td>\n",
       "      <td>no</td>\n",
       "      <td>unknown</td>\n",
       "      <td>5</td>\n",
       "      <td>may</td>\n",
       "      <td>151</td>\n",
       "      <td>1</td>\n",
       "      <td>-1</td>\n",
       "      <td>0</td>\n",
       "      <td>unknown</td>\n",
       "      <td>no</td>\n",
       "      <td>Adults</td>\n",
       "    </tr>\n",
       "  </tbody>\n",
       "</table>\n",
       "</div>"
      ],
      "text/plain": [
       "   age         job  marital  education default  balance housing loan  contact  \\\n",
       "0   58  management  married   tertiary      no     2143     yes   no  unknown   \n",
       "1   44  technician   single  secondary      no       29     yes   no  unknown   \n",
       "\n",
       "   day month  duration  campaign  pdays  previous poutcome deposit  \\\n",
       "0    5   may       261         1     -1         0  unknown      no   \n",
       "1    5   may       151         1     -1         0  unknown      no   \n",
       "\n",
       "  age_category  \n",
       "0      Elderly  \n",
       "1       Adults  "
      ]
     },
     "execution_count": 4,
     "metadata": {},
     "output_type": "execute_result"
    }
   ],
   "source": [
    "# Creating a new age category\n",
    "\n",
    "def age_category(x):\n",
    "    if x <= 25:\n",
    "        return \"Young adult\"\n",
    "    elif x <= 45:\n",
    "        return \"Adults\"\n",
    "    elif x <= 65:\n",
    "        return \"Elderly\"\n",
    "    else:\n",
    "        return \"Old\"\n",
    "        \n",
    "df['age_category']= df[\"age\"].apply(age_category)\n",
    "df.head(2)"
   ]
  },
  {
   "cell_type": "code",
   "execution_count": 4,
   "id": "77936416",
   "metadata": {},
   "outputs": [
    {
     "name": "stdout",
     "output_type": "stream",
     "text": [
      "<class 'pandas.core.frame.DataFrame'>\n",
      "RangeIndex: 45211 entries, 0 to 45210\n",
      "Data columns (total 17 columns):\n",
      " #   Column     Non-Null Count  Dtype \n",
      "---  ------     --------------  ----- \n",
      " 0   age        45211 non-null  int64 \n",
      " 1   job        45211 non-null  object\n",
      " 2   marital    45211 non-null  object\n",
      " 3   education  45211 non-null  object\n",
      " 4   default    45211 non-null  object\n",
      " 5   balance    45211 non-null  int64 \n",
      " 6   housing    45211 non-null  object\n",
      " 7   loan       45211 non-null  object\n",
      " 8   contact    45211 non-null  object\n",
      " 9   day        45211 non-null  int64 \n",
      " 10  month      45211 non-null  object\n",
      " 11  duration   45211 non-null  int64 \n",
      " 12  campaign   45211 non-null  int64 \n",
      " 13  pdays      45211 non-null  int64 \n",
      " 14  previous   45211 non-null  int64 \n",
      " 15  poutcome   45211 non-null  object\n",
      " 16  deposit    45211 non-null  object\n",
      "dtypes: int64(7), object(10)\n",
      "memory usage: 5.9+ MB\n"
     ]
    }
   ],
   "source": [
    "#checking for null values and a summary of the dataset\n",
    "\n",
    "df.info()"
   ]
  },
  {
   "cell_type": "code",
   "execution_count": 5,
   "id": "3703caff",
   "metadata": {},
   "outputs": [
    {
     "data": {
      "text/html": [
       "<div>\n",
       "<style scoped>\n",
       "    .dataframe tbody tr th:only-of-type {\n",
       "        vertical-align: middle;\n",
       "    }\n",
       "\n",
       "    .dataframe tbody tr th {\n",
       "        vertical-align: top;\n",
       "    }\n",
       "\n",
       "    .dataframe thead th {\n",
       "        text-align: right;\n",
       "    }\n",
       "</style>\n",
       "<table border=\"1\" class=\"dataframe\">\n",
       "  <thead>\n",
       "    <tr style=\"text-align: right;\">\n",
       "      <th></th>\n",
       "      <th>age</th>\n",
       "      <th>balance</th>\n",
       "      <th>day</th>\n",
       "      <th>duration</th>\n",
       "      <th>campaign</th>\n",
       "      <th>pdays</th>\n",
       "      <th>previous</th>\n",
       "    </tr>\n",
       "  </thead>\n",
       "  <tbody>\n",
       "    <tr>\n",
       "      <th>count</th>\n",
       "      <td>45211.000000</td>\n",
       "      <td>45211.000000</td>\n",
       "      <td>45211.000000</td>\n",
       "      <td>45211.000000</td>\n",
       "      <td>45211.000000</td>\n",
       "      <td>45211.000000</td>\n",
       "      <td>45211.000000</td>\n",
       "    </tr>\n",
       "    <tr>\n",
       "      <th>mean</th>\n",
       "      <td>40.936210</td>\n",
       "      <td>1362.272058</td>\n",
       "      <td>15.806419</td>\n",
       "      <td>258.163080</td>\n",
       "      <td>2.763841</td>\n",
       "      <td>40.197828</td>\n",
       "      <td>0.580323</td>\n",
       "    </tr>\n",
       "    <tr>\n",
       "      <th>std</th>\n",
       "      <td>10.618762</td>\n",
       "      <td>3044.765829</td>\n",
       "      <td>8.322476</td>\n",
       "      <td>257.527812</td>\n",
       "      <td>3.098021</td>\n",
       "      <td>100.128746</td>\n",
       "      <td>2.303441</td>\n",
       "    </tr>\n",
       "    <tr>\n",
       "      <th>min</th>\n",
       "      <td>18.000000</td>\n",
       "      <td>-8019.000000</td>\n",
       "      <td>1.000000</td>\n",
       "      <td>0.000000</td>\n",
       "      <td>1.000000</td>\n",
       "      <td>-1.000000</td>\n",
       "      <td>0.000000</td>\n",
       "    </tr>\n",
       "    <tr>\n",
       "      <th>25%</th>\n",
       "      <td>33.000000</td>\n",
       "      <td>72.000000</td>\n",
       "      <td>8.000000</td>\n",
       "      <td>103.000000</td>\n",
       "      <td>1.000000</td>\n",
       "      <td>-1.000000</td>\n",
       "      <td>0.000000</td>\n",
       "    </tr>\n",
       "    <tr>\n",
       "      <th>50%</th>\n",
       "      <td>39.000000</td>\n",
       "      <td>448.000000</td>\n",
       "      <td>16.000000</td>\n",
       "      <td>180.000000</td>\n",
       "      <td>2.000000</td>\n",
       "      <td>-1.000000</td>\n",
       "      <td>0.000000</td>\n",
       "    </tr>\n",
       "    <tr>\n",
       "      <th>75%</th>\n",
       "      <td>48.000000</td>\n",
       "      <td>1428.000000</td>\n",
       "      <td>21.000000</td>\n",
       "      <td>319.000000</td>\n",
       "      <td>3.000000</td>\n",
       "      <td>-1.000000</td>\n",
       "      <td>0.000000</td>\n",
       "    </tr>\n",
       "    <tr>\n",
       "      <th>max</th>\n",
       "      <td>95.000000</td>\n",
       "      <td>102127.000000</td>\n",
       "      <td>31.000000</td>\n",
       "      <td>4918.000000</td>\n",
       "      <td>63.000000</td>\n",
       "      <td>871.000000</td>\n",
       "      <td>275.000000</td>\n",
       "    </tr>\n",
       "  </tbody>\n",
       "</table>\n",
       "</div>"
      ],
      "text/plain": [
       "                age        balance           day      duration      campaign  \\\n",
       "count  45211.000000   45211.000000  45211.000000  45211.000000  45211.000000   \n",
       "mean      40.936210    1362.272058     15.806419    258.163080      2.763841   \n",
       "std       10.618762    3044.765829      8.322476    257.527812      3.098021   \n",
       "min       18.000000   -8019.000000      1.000000      0.000000      1.000000   \n",
       "25%       33.000000      72.000000      8.000000    103.000000      1.000000   \n",
       "50%       39.000000     448.000000     16.000000    180.000000      2.000000   \n",
       "75%       48.000000    1428.000000     21.000000    319.000000      3.000000   \n",
       "max       95.000000  102127.000000     31.000000   4918.000000     63.000000   \n",
       "\n",
       "              pdays      previous  \n",
       "count  45211.000000  45211.000000  \n",
       "mean      40.197828      0.580323  \n",
       "std      100.128746      2.303441  \n",
       "min       -1.000000      0.000000  \n",
       "25%       -1.000000      0.000000  \n",
       "50%       -1.000000      0.000000  \n",
       "75%       -1.000000      0.000000  \n",
       "max      871.000000    275.000000  "
      ]
     },
     "execution_count": 5,
     "metadata": {},
     "output_type": "execute_result"
    }
   ],
   "source": [
    "#summary of numerical values\n",
    "\n",
    "df.describe()"
   ]
  },
  {
   "cell_type": "code",
   "execution_count": 6,
   "id": "98323c53",
   "metadata": {},
   "outputs": [
    {
     "data": {
      "text/plain": [
       "age          0\n",
       "job          0\n",
       "marital      0\n",
       "education    0\n",
       "default      0\n",
       "balance      0\n",
       "housing      0\n",
       "loan         0\n",
       "contact      0\n",
       "day          0\n",
       "month        0\n",
       "duration     0\n",
       "campaign     0\n",
       "pdays        0\n",
       "previous     0\n",
       "poutcome     0\n",
       "deposit      0\n",
       "dtype: int64"
      ]
     },
     "execution_count": 6,
     "metadata": {},
     "output_type": "execute_result"
    }
   ],
   "source": [
    "# confirming missing values in the dataset\n",
    "\n",
    "null = df.isnull().sum()\n",
    "null"
   ]
  },
  {
   "cell_type": "code",
   "execution_count": 7,
   "id": "86e7638d",
   "metadata": {
    "scrolled": true
   },
   "outputs": [
    {
     "data": {
      "image/png": "[encoded data removed]",
      "text/plain": [
       "<Figure size 432x288 with 1 Axes>"
      ]
     },
     "metadata": {
      "needs_background": "light"
     },
     "output_type": "display_data"
    }
   ],
   "source": [
    "#checking the distribution of age\n",
    "\n",
    "sns.countplot(x='age_category', data=df);"
   ]
  },
  {
   "cell_type": "markdown",
   "id": "c6118fc0",
   "metadata": {},
   "source": [
    "##### This distribution is right skewed and the highest number of customers are adults"
   ]
  },
  {
   "cell_type": "code",
   "execution_count": 11,
   "id": "b6c709cd",
   "metadata": {},
   "outputs": [
    {
     "data": {
      "image/png": "[encoded data removed]",
      "text/plain": [
       "<Figure size 432x288 with 1 Axes>"
      ]
     },
     "metadata": {
      "needs_background": "light"
     },
     "output_type": "display_data"
    }
   ],
   "source": [
    "ag=sns.distplot(df['age'], kde= False, bins= 6, color = \"b\");"
   ]
  },
  {
   "cell_type": "markdown",
   "id": "612822d5",
   "metadata": {},
   "source": [
    "##### This further confirms the maximum age range of customers in the dataset (between 30-40)"
   ]
  },
  {
   "cell_type": "code",
   "execution_count": 10,
   "id": "c052db8f",
   "metadata": {
    "scrolled": false
   },
   "outputs": [
    {
     "data": {
      "image/png": "[encoded data removed]",
      "text/plain": [
       "<Figure size 432x288 with 1 Axes>"
      ]
     },
     "metadata": {
      "needs_background": "light"
     },
     "output_type": "display_data"
    }
   ],
   "source": [
    "#checking the month with the highest balance\n",
    "\n",
    "br = sns.countplot(x=df[\"month\"], order = df[\"month\"].value_counts(ascending = False).index)\n",
    "br;"
   ]
  },
  {
   "cell_type": "markdown",
   "id": "b72fc069",
   "metadata": {},
   "source": [
    "##### It can be noticed that May had the highest encounter with customers"
   ]
  },
  {
   "cell_type": "code",
   "execution_count": 25,
   "id": "02c91eae",
   "metadata": {
    "scrolled": false
   },
   "outputs": [
    {
     "data": {
      "image/png": "[encoded data removed]",
      "text/plain": [
       "<Figure size 1080x360 with 1 Axes>"
      ]
     },
     "metadata": {
      "needs_background": "light"
     },
     "output_type": "display_data"
    }
   ],
   "source": [
    "# Analysis with period\n",
    "\n",
    "plt.figure(figsize=(15,5))\n",
    "\n",
    "cp = sns.barplot(x=df['month'], y=df['day'])\n",
    "df.sort_values(by='balance', inplace=True, ascending=True)\n",
    "plt.title('Trend of account balance across months')\n",
    "plt.show();"
   ]
  },
  {
   "cell_type": "markdown",
   "id": "e36e700b",
   "metadata": {},
   "source": [
    "##### However, January had the highest number of deposits as regards to May that had the highest encounter"
   ]
  },
  {
   "cell_type": "code",
   "execution_count": 11,
   "id": "0a1d0adf",
   "metadata": {
    "scrolled": false
   },
   "outputs": [
    {
     "data": {
      "image/png": "[encoded data removed]",
      "text/plain": [
       "<Figure size 432x288 with 1 Axes>"
      ]
     },
     "metadata": {
      "needs_background": "light"
     },
     "output_type": "display_data"
    }
   ],
   "source": [
    "# analyzing the loan behaviour\n",
    "\n",
    "ln = sns.countplot(x=df[\"loan\"], order = df[\"loan\"].value_counts(ascending = False).index)\n",
    "ln;"
   ]
  },
  {
   "cell_type": "markdown",
   "id": "de207269",
   "metadata": {},
   "source": [
    "##### This shows that over 70% of the customers have not acquired any loan"
   ]
  },
  {
   "cell_type": "code",
   "execution_count": 24,
   "id": "720745c1",
   "metadata": {
    "scrolled": false
   },
   "outputs": [
    {
     "data": {
      "image/png": "[encoded data removed]",
      "text/plain": [
       "<Figure size 432x288 with 1 Axes>"
      ]
     },
     "metadata": {
      "needs_background": "light"
     },
     "output_type": "display_data"
    }
   ],
   "source": [
    "# confirming for relationship between loan and balance\n",
    "\n",
    "plt.bar(df['loan'], df['balance'])\n",
    "plt.title (\"Balance vs Loan Procured\")\n",
    "df.sort_values('balance', inplace= True, ascending= True)\n",
    "plt.show()"
   ]
  },
  {
   "cell_type": "markdown",
   "id": "9ae89fd6",
   "metadata": {},
   "source": [
    "##### Customers with higher account balance have no loan incurred"
   ]
  },
  {
   "cell_type": "code",
   "execution_count": 19,
   "id": "2ffba5d4",
   "metadata": {
    "scrolled": false
   },
   "outputs": [
    {
     "data": {
      "image/png": "[encoded data removed]",
      "text/plain": [
       "<Figure size 432x288 with 1 Axes>"
      ]
     },
     "metadata": {
      "needs_background": "light"
     },
     "output_type": "display_data"
    }
   ],
   "source": [
    "# Relationship between loan collected and default rate\n",
    "\n",
    "lp= sns.countplot(x='default', data=df, hue= \"loan\");\n",
    "plt.title('Loan Vs Default rate')\n",
    "df.sort_values(by='loan', inplace=True, ascending=False)\n",
    "values = df['default'].value_counts(ascending=False).values\n",
    "lp.bar_label(container=lp.containers[0], labels=values);\n",
    "plt.show();"
   ]
  },
  {
   "cell_type": "markdown",
   "id": "a6d00a3d",
   "metadata": {},
   "source": [
    "##### It can be noticed that very few are on loan and even fewer have defaulted"
   ]
  },
  {
   "cell_type": "code",
   "execution_count": 25,
   "id": "6d94a90e",
   "metadata": {
    "scrolled": true
   },
   "outputs": [
    {
     "data": {
      "image/png": "[encoded data removed]",
      "text/plain": [
       "<Figure size 432x288 with 1 Axes>"
      ]
     },
     "metadata": {
      "needs_background": "light"
     },
     "output_type": "display_data"
    }
   ],
   "source": [
    "#Relationship between housing loan and account balance\n",
    "\n",
    "sns.barplot(x='housing', y='balance', data=df, hue = 'marital');"
   ]
  },
  {
   "cell_type": "markdown",
   "id": "4987fbbe",
   "metadata": {},
   "source": [
    "##### From this analysis, we can see that those without housing loan have higher balances in their accounts which makes sense because mortgage would keep taking a portion of their earnings and this is irrespective of marital status."
   ]
  },
  {
   "cell_type": "code",
   "execution_count": 14,
   "id": "b5cf184a",
   "metadata": {
    "scrolled": true
   },
   "outputs": [
    {
     "data": {
      "image/png": "[encoded data removed]",
      "text/plain": [
       "<Figure size 1080x360 with 1 Axes>"
      ]
     },
     "metadata": {
      "needs_background": "light"
     },
     "output_type": "display_data"
    }
   ],
   "source": [
    "#the distribution of education categories\n",
    "\n",
    "plt.figure(figsize=(15,5))\n",
    "\n",
    "ed = sns.countplot(y=df[\"education\"], order=df[\"education\"].value_counts(ascending= False).index)\n",
    "values = df['education'].value_counts(ascending=False).values\n",
    "ed.bar_label(container=ed.containers[0], labels=values);"
   ]
  },
  {
   "cell_type": "markdown",
   "id": "dac9c373",
   "metadata": {},
   "source": [
    "##### It can be seen that secondary certificate is the highest occuring type of certificate(over 45% of all certificate) amongst the customers."
   ]
  },
  {
   "cell_type": "code",
   "execution_count": 5,
   "id": "6ef49534",
   "metadata": {
    "scrolled": true
   },
   "outputs": [
    {
     "data": {
      "image/png": "[encoded data removed]",
      "text/plain": [
       "<Figure size 1080x360 with 1 Axes>"
      ]
     },
     "metadata": {
      "needs_background": "light"
     },
     "output_type": "display_data"
    }
   ],
   "source": [
    "# Relationship between job type and current balance in the bank\n",
    "\n",
    "plt.figure(figsize=(15,5))\n",
    "\n",
    "jb = sns.countplot(y=df['job'],order=df['job'].value_counts(ascending=False).index, data=df, color='r')\n",
    "\n",
    "plt.title('Job vs Account Balance')\n",
    "df.sort_values(by='balance', inplace=True, ascending=False)\n",
    "values = df['job'].value_counts(ascending=False).values\n",
    "jb.bar_label(container=jb.containers[0], labels=values);\n",
    "plt.show();"
   ]
  },
  {
   "cell_type": "markdown",
   "id": "8482315a",
   "metadata": {},
   "source": [
    "##### This shows that those with blue collar and management jobs have higher balance and those with unknown jobs, housemaid or students have lesser account balance. Which in return is dependent on how much you earn basically"
   ]
  },
  {
   "cell_type": "code",
   "execution_count": 16,
   "id": "d4f33743",
   "metadata": {
    "scrolled": true
   },
   "outputs": [
    {
     "data": {
      "image/png": "[encoded data removed]",
      "text/plain": [
       "<Figure size 360x360 with 1 Axes>"
      ]
     },
     "metadata": {},
     "output_type": "display_data"
    }
   ],
   "source": [
    "# Analysis on deposit status of customers\n",
    "\n",
    "fig,ax = plt.subplots(figsize=(5,5))\n",
    "count= Counter(df['deposit'])\n",
    "ax.pie(count.values(), labels=count.keys(), autopct=lambda p:f'{p:.2f}%')\n",
    "ax.set_title(\"Percentage distribution of deposit status\")\n",
    "plt.show();"
   ]
  },
  {
   "cell_type": "markdown",
   "id": "fdc4e72d",
   "metadata": {},
   "source": [
    "##### Only 11.7% of customers have deposits in the bank and about 88.3% do not."
   ]
  },
  {
   "cell_type": "code",
   "execution_count": 15,
   "id": "78591710",
   "metadata": {},
   "outputs": [
    {
     "data": {
      "image/png": "[encoded data removed]",
      "text/plain": [
       "<Figure size 360x360 with 1 Axes>"
      ]
     },
     "metadata": {},
     "output_type": "display_data"
    }
   ],
   "source": [
    "# the ratio of the marketing campaign\n",
    "\n",
    "fig,ax = plt.subplots(figsize=(5,5))\n",
    "count= Counter(df['poutcome'])\n",
    "ax.pie(count.values(), labels=count.keys(), autopct=lambda p:f'{p:.2f}%')\n",
    "ax.set_title(\"Percentage distribution of previous marketing campaign\")\n",
    "plt.show();"
   ]
  },
  {
   "cell_type": "markdown",
   "id": "8baa0fb3",
   "metadata": {},
   "source": [
    "##### It can be noticed that over 81% of the previous campaigns have unknown outcomes. However, the rate of failure is higher than that of success"
   ]
  },
  {
   "cell_type": "code",
   "execution_count": 14,
   "id": "61af86a4",
   "metadata": {
    "scrolled": true
   },
   "outputs": [
    {
     "data": {
      "image/png": "[encoded data removed]",
      "text/plain": [
       "<Figure size 432x288 with 1 Axes>"
      ]
     },
     "metadata": {
      "needs_background": "light"
     },
     "output_type": "display_data"
    }
   ],
   "source": [
    "#Relationship between previous campaign and current campaign\n",
    "\n",
    "dt= plt.bar(df['poutcome'], df['pdays'], color = 'b')\n",
    "plt.title('Relationship between previous and current campaign')\n",
    "df.sort_values(by='pdays', inplace=True, ascending=False)\n",
    "dt;"
   ]
  },
  {
   "cell_type": "markdown",
   "id": "a265949a",
   "metadata": {},
   "source": [
    "##### This shows that there were too many days between the previous and present campaigns, which resulted in majority being failure. If the days for follow-up, after a campaign was done, was closer, the result could be different"
   ]
  },
  {
   "cell_type": "code",
   "execution_count": 22,
   "id": "804c40aa",
   "metadata": {},
   "outputs": [
    {
     "data": {
      "text/plain": [
       "''"
      ]
     },
     "execution_count": 22,
     "metadata": {},
     "output_type": "execute_result"
    },
    {
     "data": {
      "image/png": "[encoded data removed]",
      "text/plain": [
       "<Figure size 1080x360 with 1 Axes>"
      ]
     },
     "metadata": {
      "needs_background": "light"
     },
     "output_type": "display_data"
    }
   ],
   "source": [
    "#Relationship between current campaign and current outcome\n",
    "\n",
    "plt.figure(figsize=(15,5))\n",
    "pc=sns.barplot(x='poutcome', y='campaign', data=df, palette = 'cool_r')\n",
    "plt.title('Relationship between current campaign and its outcome')\n",
    ";"
   ]
  },
  {
   "cell_type": "markdown",
   "id": "964630af",
   "metadata": {},
   "source": [
    "##### Although, both unknown and other category are inconclusive, looking at failure and success, this shows that there were many days between the previous and present campaigns which also resulted in a failed campaign"
   ]
  },
  {
   "cell_type": "code",
   "execution_count": 11,
   "id": "8742446a",
   "metadata": {
    "scrolled": true
   },
   "outputs": [
    {
     "data": {
      "image/png": "[encoded data removed]",
      "text/plain": [
       "<Figure size 432x288 with 1 Axes>"
      ]
     },
     "metadata": {
      "needs_background": "light"
     },
     "output_type": "display_data"
    }
   ],
   "source": [
    "# Analyzing the means of communication\n",
    "\n",
    "plt.bar(df['contact'], df['balance'], color = 'g')\n",
    "plt.title('Contact Type Vs Balance')\n",
    "df.sort_values('balance', inplace = True, ascending = True)\n"
   ]
  },
  {
   "cell_type": "markdown",
   "id": "90d61d47",
   "metadata": {},
   "source": [
    "##### It can be noticed that the major means of communication for campaigns was through a cell or a telephone"
   ]
  },
  {
   "cell_type": "markdown",
   "id": "788d69fe",
   "metadata": {},
   "source": [
    "## Conclusions and Suggestions"
   ]
  },
  {
   "cell_type": "markdown",
   "id": "af1ee899",
   "metadata": {},
   "source": [
    "- The highest number of customers are adults i.e between the age of 30 and 40\n",
    "- It can be noticed that May had the highest encounter with customers however, January had the highest number of deposits.\n",
    "- It was also noticed that over 70% of the customers have not acquired any loan and further analysis showed that even those with loans have very low default rate\n",
    "- Those without housing loan have higher account balance in the bank which makes sense because mortgage would keep taking a portion of their earnings. Marital status does not influence this conclusion\n",
    "- Analysing account balance, it was noticed that those with blue collar and management jobs have higher account balance and those with housemaid jobs or students have lesser account balance. The inference is that this is dependent on how much you earn.\n",
    "- Looking into deposits, only 11.7% of customers have deposits in the bank and about 88.3% do not. This is really low, the suggestion is that interest rate can be increased, zero withdrawal rate can be implemented via online or mobile banking, little or no money transfer rates can be implemented. This would persuade customers to deposit their money much more in the bank.\n",
    "- When it comes to market campaign, over 81% of the previous campaigns have unknown outcomes. However, the rate of failure is higher than that of success and this was attributed to the fact that the period between the previous campaign and the current campaign was long. Customers constantly need reminders and convincing on the benefit of a product before purchase so implementing a lesser timeframe could be more effective.\n",
    "- It can be noticed that the major means of communication of campaigns was through a cell or a telephone. Social media platforms should be utilized, these are usually cheaper especially with organic engagement of posts and referrals. Then broadcast and Radio stations could be used as the age range of majority of the customers are adults, they are more inclined towards the TV stations and still listen to radio channels.\n"
   ]
  }
 ],
 "metadata": {
  "kernelspec": {
   "display_name": "Python 3 (ipykernel)",
   "language": "python",
   "name": "python3"
  },
  "language_info": {
   "codemirror_mode": {
    "name": "ipython",
    "version": 3
   },
   "file_extension": ".py",
   "mimetype": "text/x-python",
   "name": "python",
   "nbconvert_exporter": "python",
   "pygments_lexer": "ipython3",
   "version": "3.9.7"
  }
 },
 "nbformat": 4,
 "nbformat_minor": 5
}
